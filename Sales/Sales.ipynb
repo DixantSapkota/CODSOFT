{
 "cells": [
  {
   "cell_type": "code",
   "execution_count": 359,
   "metadata": {},
   "outputs": [],
   "source": [
    "import numpy as np\n",
    "import pandas as pd\n",
    "from sklearn.preprocessing import MinMaxScaler\n",
    "from sklearn.model_selection import train_test_split\n",
    "import matplotlib.pyplot as plt\n",
    "import tensorflow as tf\n",
    "from tensorflow.keras.models import Model\n",
    "from tensorflow.keras.layers import Dense, LSTM, Input, Dropout\n",
    "from tensorflow.keras.optimizers import Adam\n",
    "from sklearn.ensemble import RandomForestRegressor"
   ]
  },
  {
   "cell_type": "code",
   "execution_count": 333,
   "metadata": {},
   "outputs": [
    {
     "data": {
      "text/html": [
       "<div>\n",
       "<style scoped>\n",
       "    .dataframe tbody tr th:only-of-type {\n",
       "        vertical-align: middle;\n",
       "    }\n",
       "\n",
       "    .dataframe tbody tr th {\n",
       "        vertical-align: top;\n",
       "    }\n",
       "\n",
       "    .dataframe thead th {\n",
       "        text-align: right;\n",
       "    }\n",
       "</style>\n",
       "<table border=\"1\" class=\"dataframe\">\n",
       "  <thead>\n",
       "    <tr style=\"text-align: right;\">\n",
       "      <th></th>\n",
       "      <th>TV</th>\n",
       "      <th>Radio</th>\n",
       "      <th>Newspaper</th>\n",
       "      <th>Sales</th>\n",
       "    </tr>\n",
       "  </thead>\n",
       "  <tbody>\n",
       "    <tr>\n",
       "      <th>0</th>\n",
       "      <td>230.1</td>\n",
       "      <td>37.8</td>\n",
       "      <td>69.2</td>\n",
       "      <td>22.1</td>\n",
       "    </tr>\n",
       "    <tr>\n",
       "      <th>1</th>\n",
       "      <td>44.5</td>\n",
       "      <td>39.3</td>\n",
       "      <td>45.1</td>\n",
       "      <td>10.4</td>\n",
       "    </tr>\n",
       "    <tr>\n",
       "      <th>2</th>\n",
       "      <td>17.2</td>\n",
       "      <td>45.9</td>\n",
       "      <td>69.3</td>\n",
       "      <td>12.0</td>\n",
       "    </tr>\n",
       "    <tr>\n",
       "      <th>3</th>\n",
       "      <td>151.5</td>\n",
       "      <td>41.3</td>\n",
       "      <td>58.5</td>\n",
       "      <td>16.5</td>\n",
       "    </tr>\n",
       "    <tr>\n",
       "      <th>4</th>\n",
       "      <td>180.8</td>\n",
       "      <td>10.8</td>\n",
       "      <td>58.4</td>\n",
       "      <td>17.9</td>\n",
       "    </tr>\n",
       "  </tbody>\n",
       "</table>\n",
       "</div>"
      ],
      "text/plain": [
       "      TV  Radio  Newspaper  Sales\n",
       "0  230.1   37.8       69.2   22.1\n",
       "1   44.5   39.3       45.1   10.4\n",
       "2   17.2   45.9       69.3   12.0\n",
       "3  151.5   41.3       58.5   16.5\n",
       "4  180.8   10.8       58.4   17.9"
      ]
     },
     "execution_count": 333,
     "metadata": {},
     "output_type": "execute_result"
    }
   ],
   "source": [
    "data = pd.read_csv('Sales_prediction.csv')\n",
    "data.head()\n",
    "\n",
    "#Reading the csv file"
   ]
  },
  {
   "cell_type": "code",
   "execution_count": 334,
   "metadata": {},
   "outputs": [
    {
     "data": {
      "text/plain": [
       "(200, 4)"
      ]
     },
     "execution_count": 334,
     "metadata": {},
     "output_type": "execute_result"
    }
   ],
   "source": [
    "data.shape\n",
    "\n",
    "#Checking the shape of the data (rows and cols)"
   ]
  },
  {
   "cell_type": "code",
   "execution_count": 335,
   "metadata": {},
   "outputs": [
    {
     "data": {
      "text/plain": [
       "TV           0\n",
       "Radio        0\n",
       "Newspaper    0\n",
       "Sales        0\n",
       "dtype: int64"
      ]
     },
     "execution_count": 335,
     "metadata": {},
     "output_type": "execute_result"
    }
   ],
   "source": [
    "data.isnull().sum()\n",
    "\n",
    "#Checking if any values are null or cells are empty"
   ]
  },
  {
   "cell_type": "code",
   "execution_count": 336,
   "metadata": {},
   "outputs": [
    {
     "data": {
      "text/plain": [
       "TV           float64\n",
       "Radio        float64\n",
       "Newspaper    float64\n",
       "Sales        float64\n",
       "dtype: object"
      ]
     },
     "execution_count": 336,
     "metadata": {},
     "output_type": "execute_result"
    }
   ],
   "source": [
    "data.dtypes\n",
    "\n",
    "#Checking the data types for each of the columns"
   ]
  },
  {
   "cell_type": "code",
   "execution_count": 360,
   "metadata": {},
   "outputs": [
    {
     "name": "stdout",
     "output_type": "stream",
     "text": [
      "                 TV     Radio  Newspaper     Sales\n",
      "TV         1.000000  0.054809   0.056648  0.901208\n",
      "Radio      0.054809  1.000000   0.354104  0.349631\n",
      "Newspaper  0.056648  0.354104   1.000000  0.157960\n",
      "Sales      0.901208  0.349631   0.157960  1.000000\n",
      "Here we see TV seems to have the highest impact on total Sales!!!!\n"
     ]
    }
   ],
   "source": [
    "print(data.corr())\n",
    "print (\"Here we see TV seems to have the highest impact on total Sales!!!!\")\n",
    "\n",
    "#Tabulating the correlation between different values in the given dataset"
   ]
  },
  {
   "cell_type": "code",
   "execution_count": 338,
   "metadata": {},
   "outputs": [
    {
     "data": {
      "image/png": "[encoded data removed]",
      "text/plain": [
       "<Figure size 640x480 with 3 Axes>"
      ]
     },
     "metadata": {},
     "output_type": "display_data"
    },
    {
     "name": "stdout",
     "output_type": "stream",
     "text": [
      "Here we see a much higher correlation between TV ad expenses and Sales Revenue!!!\n"
     ]
    }
   ],
   "source": [
    "fig, axes = plt.subplots(3)\n",
    "ax = axes.ravel()\n",
    "ax[0].set_title(\"Ad Expenses vs Sales Revenue\")\n",
    "ax[0].scatter(data['TV'], data['Sales'], color = 'red')\n",
    "ax[0].set_ylabel(\"TV\")\n",
    "ax[1].scatter(data['Radio'], data['Sales'], color = 'green')\n",
    "ax[1].set_ylabel(\"Radio\")\n",
    "ax[2].scatter(data['Newspaper'], data['Sales'], color = 'black')\n",
    "ax[2].set_xlabel(\"Sales revenue\")\n",
    "ax[2].set_ylabel(\"Newspaper\")\n",
    "plt.show()\n",
    "print(\"Here we see a much higher correlation between TV ad expenses and Sales Revenue!!!\")"
   ]
  },
  {
   "cell_type": "code",
   "execution_count": 339,
   "metadata": {},
   "outputs": [
    {
     "name": "stdout",
     "output_type": "stream",
     "text": [
      "[[230.1  37.8  69.2]\n",
      " [ 44.5  39.3  45.1]\n",
      " [ 17.2  45.9  69.3]\n",
      " [151.5  41.3  58.5]\n",
      " [180.8  10.8  58.4]]\n",
      "[22.1 10.4 12.  16.5 17.9]\n"
     ]
    }
   ],
   "source": [
    "#Need to extract data for model training and validiating\n",
    "x = data.iloc[:,:-1].values\n",
    "y = data.iloc[:,-1].values\n",
    "print (x[:5])\n",
    "print (y[:5])"
   ]
  },
  {
   "cell_type": "code",
   "execution_count": 340,
   "metadata": {},
   "outputs": [
    {
     "name": "stdout",
     "output_type": "stream",
     "text": [
      "The shape of input vector is::  (200, 3)\n",
      "the shape of output vector is::  (200,)\n"
     ]
    }
   ],
   "source": [
    "print(\"The shape of input vector is:: \",x.shape)\n",
    "print (\"the shape of output vector is:: \", y.shape)\n",
    "\n",
    "#Checking correct shapes for the input and output vectors "
   ]
  },
  {
   "cell_type": "code",
   "execution_count": 341,
   "metadata": {},
   "outputs": [
    {
     "data": {
      "text/plain": [
       "{'whiskers': [<matplotlib.lines.Line2D at 0x2c2713d1650>,\n",
       "  <matplotlib.lines.Line2D at 0x2c2713d1fd0>],\n",
       " 'caps': [<matplotlib.lines.Line2D at 0x2c2713d1290>,\n",
       "  <matplotlib.lines.Line2D at 0x2c2713d2cd0>],\n",
       " 'boxes': [<matplotlib.lines.Line2D at 0x2c2713d1710>],\n",
       " 'medians': [<matplotlib.lines.Line2D at 0x2c2713d3dd0>],\n",
       " 'fliers': [<matplotlib.lines.Line2D at 0x2c2713d1250>],\n",
       " 'means': []}"
      ]
     },
     "execution_count": 341,
     "metadata": {},
     "output_type": "execute_result"
    },
    {
     "data": {
      "image/png": "[encoded data removed]",
      "text/plain": [
       "<Figure size 640x480 with 1 Axes>"
      ]
     },
     "metadata": {},
     "output_type": "display_data"
    }
   ],
   "source": [
    "plt.boxplot(data['Sales'] )\n",
    "\n",
    "#Seeing if there are any outliers, so that we can adjust for them"
   ]
  },
  {
   "cell_type": "code",
   "execution_count": 342,
   "metadata": {},
   "outputs": [
    {
     "name": "stdout",
     "output_type": "stream",
     "text": [
      "The shape of training input vector is::  (162, 3)\n",
      "the shape of testing input vector is::  (20, 3)\n"
     ]
    }
   ],
   "source": [
    "x_input, x_test, y_input, y_test = train_test_split(x, y, test_size=0.1)\n",
    "x_train, x_val, y_train, y_val= train_test_split(x_input, y_input, test_size=0.1)\n",
    "print(\"The shape of training input vector is:: \",x_train.shape)\n",
    "print (\"the shape of testing input vector is:: \", x_test.shape)\n",
    "\n",
    "#Again checking the shape of the input vectors to properly design the model"
   ]
  },
  {
   "cell_type": "code",
   "execution_count": 351,
   "metadata": {},
   "outputs": [
    {
     "name": "stdout",
     "output_type": "stream",
     "text": [
      "Model: \"model_25\"\n",
      "_________________________________________________________________\n",
      " Layer (type)                Output Shape              Param #   \n",
      "=================================================================\n",
      " input_43 (InputLayer)       [(None, 3)]               0         \n",
      "                                                                 \n",
      " dense_170 (Dense)           (None, 256)               1024      \n",
      "                                                                 \n",
      " dense_171 (Dense)           (None, 128)               32896     \n",
      "                                                                 \n",
      " dense_172 (Dense)           (None, 64)                8256      \n",
      "                                                                 \n",
      " dense_173 (Dense)           (None, 32)                2080      \n",
      "                                                                 \n",
      " dense_174 (Dense)           (None, 1)                 33        \n",
      "                                                                 \n",
      "=================================================================\n",
      "Total params: 44289 (173.00 KB)\n",
      "Trainable params: 44289 (173.00 KB)\n",
      "Non-trainable params: 0 (0.00 Byte)\n",
      "_________________________________________________________________\n"
     ]
    }
   ],
   "source": [
    "input_to_model = Input(shape = (3,))\n",
    "y  = tf.keras.layers.Dense(256, activation = 'relu')(input_to_model)\n",
    "y = tf.keras.layers.Dense(128, activation = 'relu')(y)\n",
    "y = tf.keras.layers.Dense(64, activation = 'relu')(y)\n",
    "y = tf.keras.layers.Dense(32, activation = 'relu')(y)\n",
    "output_value = tf.keras.layers.Dense(1)(y)\n",
    "#Defining the model layers\n",
    "\n",
    "optimizer = Adam(learning_rate=0.01)\n",
    "model = Model(inputs = [input_to_model], outputs = output_value)\n",
    "model.summary()\n",
    "#Checking the model parameters"
   ]
  },
  {
   "cell_type": "code",
   "execution_count": 352,
   "metadata": {},
   "outputs": [],
   "source": [
    "model.compile(optimizer = optimizer, loss = 'mean_squared_error')\n",
    "#Compiling the model using mean squared error as the loss function, and Adam optimizer"
   ]
  },
  {
   "cell_type": "code",
   "execution_count": 361,
   "metadata": {},
   "outputs": [
    {
     "name": "stdout",
     "output_type": "stream",
     "text": [
      "Epoch 1/200\n",
      "1/6 [====>.........................] - ETA: 0s - loss: 2.5406"
     ]
    },
    {
     "name": "stdout",
     "output_type": "stream",
     "text": [
      "6/6 [==============================] - 0s 12ms/step - loss: 2.4446 - val_loss: 1.9026\n",
      "Epoch 2/200\n",
      "6/6 [==============================] - 0s 8ms/step - loss: 2.7472 - val_loss: 1.2475\n",
      "Epoch 3/200\n",
      "6/6 [==============================] - 0s 6ms/step - loss: 2.1375 - val_loss: 1.0697\n",
      "Epoch 4/200\n",
      "6/6 [==============================] - 0s 6ms/step - loss: 2.0512 - val_loss: 1.1246\n",
      "Epoch 5/200\n",
      "6/6 [==============================] - 0s 6ms/step - loss: 1.9495 - val_loss: 1.0552\n",
      "Epoch 6/200\n",
      "6/6 [==============================] - 0s 6ms/step - loss: 1.9160 - val_loss: 1.2591\n",
      "Epoch 7/200\n",
      "6/6 [==============================] - 0s 5ms/step - loss: 2.2415 - val_loss: 1.2742\n",
      "Epoch 8/200\n",
      "6/6 [==============================] - 0s 5ms/step - loss: 1.9671 - val_loss: 1.6553\n",
      "Epoch 9/200\n",
      "6/6 [==============================] - 0s 6ms/step - loss: 3.2533 - val_loss: 2.1361\n",
      "Epoch 10/200\n",
      "6/6 [==============================] - 0s 5ms/step - loss: 2.2556 - val_loss: 1.8155\n",
      "Epoch 11/200\n",
      "6/6 [==============================] - 0s 5ms/step - loss: 3.0724 - val_loss: 1.8986\n",
      "Epoch 12/200\n",
      "6/6 [==============================] - 0s 5ms/step - loss: 2.1347 - val_loss: 1.7683\n",
      "Epoch 13/200\n",
      "6/6 [==============================] - 0s 6ms/step - loss: 2.3955 - val_loss: 1.1776\n",
      "Epoch 14/200\n",
      "6/6 [==============================] - 0s 5ms/step - loss: 2.3376 - val_loss: 1.3565\n",
      "Epoch 15/200\n",
      "6/6 [==============================] - 0s 5ms/step - loss: 2.1278 - val_loss: 1.1872\n",
      "Epoch 16/200\n",
      "6/6 [==============================] - 0s 6ms/step - loss: 2.1916 - val_loss: 1.1624\n",
      "Epoch 17/200\n",
      "6/6 [==============================] - 0s 6ms/step - loss: 2.0268 - val_loss: 1.3397\n",
      "Epoch 18/200\n",
      "6/6 [==============================] - 0s 6ms/step - loss: 1.9716 - val_loss: 1.5521\n",
      "Epoch 19/200\n",
      "6/6 [==============================] - 0s 6ms/step - loss: 2.2472 - val_loss: 1.3889\n",
      "Epoch 20/200\n",
      "6/6 [==============================] - 0s 6ms/step - loss: 2.0190 - val_loss: 1.9095\n",
      "Epoch 21/200\n",
      "6/6 [==============================] - 0s 6ms/step - loss: 2.3518 - val_loss: 1.6415\n",
      "Epoch 22/200\n",
      "6/6 [==============================] - 0s 7ms/step - loss: 2.1086 - val_loss: 1.1460\n",
      "Epoch 23/200\n",
      "6/6 [==============================] - 0s 6ms/step - loss: 3.1810 - val_loss: 2.2298\n",
      "Epoch 24/200\n",
      "6/6 [==============================] - 0s 6ms/step - loss: 2.8088 - val_loss: 1.5389\n",
      "Epoch 25/200\n",
      "6/6 [==============================] - 0s 8ms/step - loss: 2.2808 - val_loss: 1.2684\n",
      "Epoch 26/200\n",
      "6/6 [==============================] - 0s 7ms/step - loss: 1.9033 - val_loss: 0.9657\n",
      "Epoch 27/200\n",
      "6/6 [==============================] - 0s 7ms/step - loss: 2.1855 - val_loss: 1.1324\n",
      "Epoch 28/200\n",
      "6/6 [==============================] - 0s 12ms/step - loss: 2.1448 - val_loss: 1.2131\n",
      "Epoch 29/200\n",
      "6/6 [==============================] - 0s 8ms/step - loss: 2.1202 - val_loss: 1.1037\n",
      "Epoch 30/200\n",
      "6/6 [==============================] - 0s 7ms/step - loss: 1.9161 - val_loss: 1.1016\n",
      "Epoch 31/200\n",
      "6/6 [==============================] - 0s 7ms/step - loss: 2.1021 - val_loss: 1.0397\n",
      "Epoch 32/200\n",
      "6/6 [==============================] - 0s 6ms/step - loss: 2.3955 - val_loss: 1.7047\n",
      "Epoch 33/200\n",
      "6/6 [==============================] - 0s 6ms/step - loss: 2.4287 - val_loss: 1.8952\n",
      "Epoch 34/200\n",
      "6/6 [==============================] - 0s 6ms/step - loss: 2.6948 - val_loss: 2.0244\n",
      "Epoch 35/200\n",
      "6/6 [==============================] - 0s 5ms/step - loss: 2.2254 - val_loss: 1.6022\n",
      "Epoch 36/200\n",
      "6/6 [==============================] - 0s 5ms/step - loss: 2.2212 - val_loss: 1.4158\n",
      "Epoch 37/200\n",
      "6/6 [==============================] - 0s 5ms/step - loss: 2.2213 - val_loss: 1.1898\n",
      "Epoch 38/200\n",
      "6/6 [==============================] - 0s 5ms/step - loss: 1.9444 - val_loss: 1.1274\n",
      "Epoch 39/200\n",
      "6/6 [==============================] - 0s 5ms/step - loss: 1.8834 - val_loss: 1.1505\n",
      "Epoch 40/200\n",
      "6/6 [==============================] - 0s 5ms/step - loss: 1.9944 - val_loss: 2.3665\n",
      "Epoch 41/200\n",
      "6/6 [==============================] - 0s 5ms/step - loss: 3.8702 - val_loss: 4.5392\n",
      "Epoch 42/200\n",
      "6/6 [==============================] - 0s 5ms/step - loss: 3.6200 - val_loss: 1.4203\n",
      "Epoch 43/200\n",
      "6/6 [==============================] - 0s 5ms/step - loss: 2.4786 - val_loss: 1.3077\n",
      "Epoch 44/200\n",
      "6/6 [==============================] - 0s 5ms/step - loss: 3.0332 - val_loss: 1.4924\n",
      "Epoch 45/200\n",
      "6/6 [==============================] - 0s 5ms/step - loss: 2.4034 - val_loss: 2.1644\n",
      "Epoch 46/200\n",
      "6/6 [==============================] - 0s 5ms/step - loss: 2.5463 - val_loss: 2.0132\n",
      "Epoch 47/200\n",
      "6/6 [==============================] - 0s 5ms/step - loss: 2.6633 - val_loss: 1.2221\n",
      "Epoch 48/200\n",
      "6/6 [==============================] - 0s 6ms/step - loss: 1.8148 - val_loss: 1.4024\n",
      "Epoch 49/200\n",
      "6/6 [==============================] - 0s 5ms/step - loss: 1.8828 - val_loss: 1.2635\n",
      "Epoch 50/200\n",
      "6/6 [==============================] - 0s 7ms/step - loss: 2.2811 - val_loss: 1.4771\n",
      "Epoch 51/200\n",
      "6/6 [==============================] - 0s 6ms/step - loss: 2.0876 - val_loss: 1.5587\n",
      "Epoch 52/200\n",
      "6/6 [==============================] - 0s 7ms/step - loss: 2.0035 - val_loss: 1.0962\n",
      "Epoch 53/200\n",
      "6/6 [==============================] - 0s 7ms/step - loss: 1.9619 - val_loss: 1.3571\n",
      "Epoch 54/200\n",
      "6/6 [==============================] - 0s 6ms/step - loss: 2.0784 - val_loss: 1.3808\n",
      "Epoch 55/200\n",
      "6/6 [==============================] - 0s 6ms/step - loss: 1.8410 - val_loss: 1.6130\n",
      "Epoch 56/200\n",
      "6/6 [==============================] - 0s 7ms/step - loss: 2.3630 - val_loss: 1.5917\n",
      "Epoch 57/200\n",
      "6/6 [==============================] - 0s 6ms/step - loss: 1.9553 - val_loss: 1.9576\n",
      "Epoch 58/200\n",
      "6/6 [==============================] - 0s 7ms/step - loss: 2.5571 - val_loss: 1.8754\n",
      "Epoch 59/200\n",
      "6/6 [==============================] - 0s 6ms/step - loss: 1.9115 - val_loss: 1.2803\n",
      "Epoch 60/200\n",
      "6/6 [==============================] - 0s 6ms/step - loss: 2.1011 - val_loss: 1.4214\n",
      "Epoch 61/200\n",
      "6/6 [==============================] - 0s 7ms/step - loss: 2.0594 - val_loss: 1.9812\n",
      "Epoch 62/200\n",
      "6/6 [==============================] - 0s 6ms/step - loss: 2.4554 - val_loss: 2.0344\n",
      "Epoch 63/200\n",
      "6/6 [==============================] - 0s 6ms/step - loss: 2.6414 - val_loss: 2.3433\n",
      "Epoch 64/200\n",
      "6/6 [==============================] - 0s 6ms/step - loss: 3.0318 - val_loss: 1.2220\n",
      "Epoch 65/200\n",
      "6/6 [==============================] - 0s 7ms/step - loss: 2.2860 - val_loss: 1.7575\n",
      "Epoch 66/200\n",
      "6/6 [==============================] - 0s 7ms/step - loss: 3.2658 - val_loss: 4.4011\n",
      "Epoch 67/200\n",
      "6/6 [==============================] - 0s 6ms/step - loss: 4.5950 - val_loss: 5.7483\n",
      "Epoch 68/200\n",
      "6/6 [==============================] - 0s 6ms/step - loss: 4.6543 - val_loss: 7.0230\n",
      "Epoch 69/200\n",
      "6/6 [==============================] - 0s 5ms/step - loss: 3.7648 - val_loss: 3.9235\n",
      "Epoch 70/200\n",
      "6/6 [==============================] - 0s 10ms/step - loss: 3.4902 - val_loss: 2.8809\n",
      "Epoch 71/200\n",
      "6/6 [==============================] - 0s 5ms/step - loss: 2.4452 - val_loss: 1.3469\n",
      "Epoch 72/200\n",
      "6/6 [==============================] - 0s 5ms/step - loss: 2.3362 - val_loss: 1.2997\n",
      "Epoch 73/200\n",
      "6/6 [==============================] - 0s 5ms/step - loss: 1.8983 - val_loss: 1.1469\n",
      "Epoch 74/200\n",
      "6/6 [==============================] - 0s 5ms/step - loss: 2.0476 - val_loss: 1.1581\n",
      "Epoch 75/200\n",
      "6/6 [==============================] - 0s 5ms/step - loss: 1.9325 - val_loss: 1.5045\n",
      "Epoch 76/200\n",
      "6/6 [==============================] - 0s 5ms/step - loss: 2.5767 - val_loss: 1.9746\n",
      "Epoch 77/200\n",
      "6/6 [==============================] - 0s 5ms/step - loss: 2.3201 - val_loss: 1.3357\n",
      "Epoch 78/200\n",
      "6/6 [==============================] - 0s 5ms/step - loss: 2.1977 - val_loss: 1.3265\n",
      "Epoch 79/200\n",
      "6/6 [==============================] - 0s 5ms/step - loss: 1.9194 - val_loss: 1.2199\n",
      "Epoch 80/200\n",
      "6/6 [==============================] - 0s 5ms/step - loss: 2.0714 - val_loss: 1.1122\n",
      "Epoch 81/200\n",
      "6/6 [==============================] - 0s 5ms/step - loss: 2.0082 - val_loss: 1.5715\n",
      "Epoch 82/200\n",
      "6/6 [==============================] - 0s 5ms/step - loss: 2.0491 - val_loss: 1.8115\n",
      "Epoch 83/200\n",
      "6/6 [==============================] - 0s 5ms/step - loss: 2.1522 - val_loss: 2.3019\n",
      "Epoch 84/200\n",
      "6/6 [==============================] - 0s 5ms/step - loss: 2.0929 - val_loss: 1.9104\n",
      "Epoch 85/200\n",
      "6/6 [==============================] - 0s 5ms/step - loss: 2.3661 - val_loss: 1.6570\n",
      "Epoch 86/200\n",
      "6/6 [==============================] - 0s 5ms/step - loss: 1.9033 - val_loss: 1.5364\n",
      "Epoch 87/200\n",
      "6/6 [==============================] - 0s 5ms/step - loss: 1.9617 - val_loss: 1.8653\n",
      "Epoch 88/200\n",
      "6/6 [==============================] - 0s 5ms/step - loss: 2.4882 - val_loss: 1.8967\n",
      "Epoch 89/200\n",
      "6/6 [==============================] - 0s 5ms/step - loss: 2.0164 - val_loss: 1.2753\n",
      "Epoch 90/200\n",
      "6/6 [==============================] - 0s 5ms/step - loss: 2.1931 - val_loss: 1.4615\n",
      "Epoch 91/200\n",
      "6/6 [==============================] - 0s 5ms/step - loss: 2.5088 - val_loss: 1.7044\n",
      "Epoch 92/200\n",
      "6/6 [==============================] - 0s 5ms/step - loss: 2.1923 - val_loss: 1.8411\n",
      "Epoch 93/200\n",
      "6/6 [==============================] - 0s 5ms/step - loss: 1.9967 - val_loss: 1.4556\n",
      "Epoch 94/200\n",
      "6/6 [==============================] - 0s 5ms/step - loss: 2.0198 - val_loss: 1.4367\n",
      "Epoch 95/200\n",
      "6/6 [==============================] - 0s 5ms/step - loss: 2.0133 - val_loss: 1.1198\n",
      "Epoch 96/200\n",
      "6/6 [==============================] - 0s 5ms/step - loss: 2.0923 - val_loss: 1.1785\n",
      "Epoch 97/200\n",
      "6/6 [==============================] - 0s 5ms/step - loss: 1.8479 - val_loss: 1.1920\n",
      "Epoch 98/200\n",
      "6/6 [==============================] - 0s 5ms/step - loss: 1.9182 - val_loss: 1.1102\n",
      "Epoch 99/200\n",
      "6/6 [==============================] - 0s 5ms/step - loss: 1.7712 - val_loss: 1.1168\n",
      "Epoch 100/200\n",
      "6/6 [==============================] - 0s 5ms/step - loss: 1.7301 - val_loss: 1.4674\n",
      "Epoch 101/200\n",
      "6/6 [==============================] - 0s 5ms/step - loss: 2.0726 - val_loss: 1.2253\n",
      "Epoch 102/200\n",
      "6/6 [==============================] - 0s 5ms/step - loss: 1.9377 - val_loss: 1.1997\n",
      "Epoch 103/200\n",
      "6/6 [==============================] - 0s 5ms/step - loss: 1.8403 - val_loss: 1.1097\n",
      "Epoch 104/200\n",
      "6/6 [==============================] - 0s 5ms/step - loss: 1.7322 - val_loss: 1.1718\n",
      "Epoch 105/200\n",
      "6/6 [==============================] - 0s 5ms/step - loss: 1.9241 - val_loss: 1.5274\n",
      "Epoch 106/200\n",
      "6/6 [==============================] - 0s 5ms/step - loss: 1.8947 - val_loss: 2.5536\n",
      "Epoch 107/200\n",
      "6/6 [==============================] - 0s 5ms/step - loss: 2.4280 - val_loss: 1.3482\n",
      "Epoch 108/200\n",
      "6/6 [==============================] - 0s 5ms/step - loss: 1.8388 - val_loss: 1.0653\n",
      "Epoch 109/200\n",
      "6/6 [==============================] - 0s 5ms/step - loss: 1.9714 - val_loss: 1.2338\n",
      "Epoch 110/200\n",
      "6/6 [==============================] - 0s 5ms/step - loss: 1.8138 - val_loss: 1.2136\n",
      "Epoch 111/200\n",
      "6/6 [==============================] - 0s 5ms/step - loss: 1.8129 - val_loss: 1.1615\n",
      "Epoch 112/200\n",
      "6/6 [==============================] - 0s 5ms/step - loss: 2.0635 - val_loss: 2.1485\n",
      "Epoch 113/200\n",
      "6/6 [==============================] - 0s 5ms/step - loss: 2.2332 - val_loss: 2.1268\n",
      "Epoch 114/200\n",
      "6/6 [==============================] - 0s 5ms/step - loss: 2.0231 - val_loss: 2.8610\n",
      "Epoch 115/200\n",
      "6/6 [==============================] - 0s 5ms/step - loss: 2.1481 - val_loss: 2.0013\n",
      "Epoch 116/200\n",
      "6/6 [==============================] - 0s 5ms/step - loss: 2.2655 - val_loss: 1.1520\n",
      "Epoch 117/200\n",
      "6/6 [==============================] - 0s 5ms/step - loss: 2.4377 - val_loss: 2.6979\n",
      "Epoch 118/200\n",
      "6/6 [==============================] - 0s 5ms/step - loss: 2.8796 - val_loss: 4.0783\n",
      "Epoch 119/200\n",
      "6/6 [==============================] - 0s 5ms/step - loss: 3.8959 - val_loss: 3.4272\n",
      "Epoch 120/200\n",
      "6/6 [==============================] - 0s 5ms/step - loss: 2.1743 - val_loss: 1.9382\n",
      "Epoch 121/200\n",
      "6/6 [==============================] - 0s 5ms/step - loss: 2.0511 - val_loss: 2.2083\n",
      "Epoch 122/200\n",
      "6/6 [==============================] - 0s 5ms/step - loss: 1.8060 - val_loss: 2.0621\n",
      "Epoch 123/200\n",
      "6/6 [==============================] - 0s 5ms/step - loss: 2.3144 - val_loss: 2.5738\n",
      "Epoch 124/200\n",
      "6/6 [==============================] - 0s 5ms/step - loss: 2.5471 - val_loss: 1.0516\n",
      "Epoch 125/200\n",
      "6/6 [==============================] - 0s 5ms/step - loss: 2.3450 - val_loss: 2.2608\n",
      "Epoch 126/200\n",
      "6/6 [==============================] - 0s 5ms/step - loss: 2.7250 - val_loss: 1.5010\n",
      "Epoch 127/200\n",
      "6/6 [==============================] - 0s 5ms/step - loss: 2.5557 - val_loss: 1.1327\n",
      "Epoch 128/200\n",
      "6/6 [==============================] - 0s 5ms/step - loss: 1.8255 - val_loss: 1.2324\n",
      "Epoch 129/200\n",
      "6/6 [==============================] - 0s 5ms/step - loss: 1.7770 - val_loss: 1.2798\n",
      "Epoch 130/200\n",
      "6/6 [==============================] - 0s 5ms/step - loss: 1.8281 - val_loss: 1.4053\n",
      "Epoch 131/200\n",
      "6/6 [==============================] - 0s 5ms/step - loss: 1.7521 - val_loss: 1.2436\n",
      "Epoch 132/200\n",
      "6/6 [==============================] - 0s 5ms/step - loss: 1.7572 - val_loss: 1.1976\n",
      "Epoch 133/200\n",
      "6/6 [==============================] - 0s 5ms/step - loss: 1.9827 - val_loss: 2.6286\n",
      "Epoch 134/200\n",
      "6/6 [==============================] - 0s 5ms/step - loss: 2.9329 - val_loss: 1.6730\n",
      "Epoch 135/200\n",
      "6/6 [==============================] - 0s 5ms/step - loss: 2.5076 - val_loss: 1.1535\n",
      "Epoch 136/200\n",
      "6/6 [==============================] - 0s 5ms/step - loss: 2.0932 - val_loss: 1.4584\n",
      "Epoch 137/200\n",
      "6/6 [==============================] - 0s 5ms/step - loss: 1.9058 - val_loss: 1.4045\n",
      "Epoch 138/200\n",
      "6/6 [==============================] - 0s 5ms/step - loss: 2.2707 - val_loss: 1.8899\n",
      "Epoch 139/200\n",
      "6/6 [==============================] - 0s 6ms/step - loss: 2.0021 - val_loss: 1.8719\n",
      "Epoch 140/200\n",
      "6/6 [==============================] - 0s 8ms/step - loss: 1.9321 - val_loss: 1.6469\n",
      "Epoch 141/200\n",
      "6/6 [==============================] - 0s 8ms/step - loss: 1.8838 - val_loss: 3.0895\n",
      "Epoch 142/200\n",
      "6/6 [==============================] - 0s 6ms/step - loss: 2.4265 - val_loss: 2.5127\n",
      "Epoch 143/200\n",
      "6/6 [==============================] - 0s 7ms/step - loss: 2.5090 - val_loss: 1.3180\n",
      "Epoch 144/200\n",
      "6/6 [==============================] - 0s 6ms/step - loss: 5.1114 - val_loss: 4.3007\n",
      "Epoch 145/200\n",
      "6/6 [==============================] - 0s 6ms/step - loss: 4.6852 - val_loss: 6.0470\n",
      "Epoch 146/200\n",
      "6/6 [==============================] - 0s 6ms/step - loss: 4.1349 - val_loss: 6.0635\n",
      "Epoch 147/200\n",
      "6/6 [==============================] - 0s 7ms/step - loss: 3.8980 - val_loss: 3.8868\n",
      "Epoch 148/200\n",
      "6/6 [==============================] - 0s 7ms/step - loss: 3.4988 - val_loss: 2.4063\n",
      "Epoch 149/200\n",
      "6/6 [==============================] - 0s 6ms/step - loss: 2.1392 - val_loss: 1.5105\n",
      "Epoch 150/200\n",
      "6/6 [==============================] - 0s 7ms/step - loss: 1.9285 - val_loss: 2.3801\n",
      "Epoch 151/200\n",
      "6/6 [==============================] - 0s 7ms/step - loss: 2.3477 - val_loss: 1.8945\n",
      "Epoch 152/200\n",
      "6/6 [==============================] - 0s 7ms/step - loss: 2.6707 - val_loss: 1.4642\n",
      "Epoch 153/200\n",
      "6/6 [==============================] - 0s 6ms/step - loss: 2.0047 - val_loss: 1.2206\n",
      "Epoch 154/200\n",
      "6/6 [==============================] - 0s 5ms/step - loss: 1.9649 - val_loss: 1.4133\n",
      "Epoch 155/200\n",
      "6/6 [==============================] - 0s 6ms/step - loss: 2.0374 - val_loss: 2.0462\n",
      "Epoch 156/200\n",
      "6/6 [==============================] - 0s 6ms/step - loss: 2.3706 - val_loss: 2.3305\n",
      "Epoch 157/200\n",
      "6/6 [==============================] - 0s 6ms/step - loss: 2.4780 - val_loss: 2.8518\n",
      "Epoch 158/200\n",
      "6/6 [==============================] - 0s 7ms/step - loss: 2.3203 - val_loss: 1.5024\n",
      "Epoch 159/200\n",
      "6/6 [==============================] - 0s 7ms/step - loss: 1.9707 - val_loss: 1.6459\n",
      "Epoch 160/200\n",
      "6/6 [==============================] - 0s 6ms/step - loss: 2.0656 - val_loss: 1.2139\n",
      "Epoch 161/200\n",
      "6/6 [==============================] - 0s 6ms/step - loss: 1.9261 - val_loss: 1.2314\n",
      "Epoch 162/200\n",
      "6/6 [==============================] - 0s 6ms/step - loss: 1.8164 - val_loss: 1.6327\n",
      "Epoch 163/200\n",
      "6/6 [==============================] - 0s 6ms/step - loss: 1.7839 - val_loss: 1.1977\n",
      "Epoch 164/200\n",
      "6/6 [==============================] - 0s 6ms/step - loss: 1.8367 - val_loss: 1.7289\n",
      "Epoch 165/200\n",
      "6/6 [==============================] - 0s 7ms/step - loss: 2.1763 - val_loss: 2.0132\n",
      "Epoch 166/200\n",
      "6/6 [==============================] - 0s 7ms/step - loss: 2.3390 - val_loss: 1.5608\n",
      "Epoch 167/200\n",
      "6/6 [==============================] - 0s 7ms/step - loss: 2.0185 - val_loss: 1.1966\n",
      "Epoch 168/200\n",
      "6/6 [==============================] - 0s 11ms/step - loss: 2.1700 - val_loss: 2.1100\n",
      "Epoch 169/200\n",
      "6/6 [==============================] - 0s 8ms/step - loss: 2.5542 - val_loss: 3.2393\n",
      "Epoch 170/200\n",
      "6/6 [==============================] - 0s 7ms/step - loss: 2.4388 - val_loss: 2.7293\n",
      "Epoch 171/200\n",
      "6/6 [==============================] - 0s 5ms/step - loss: 2.3211 - val_loss: 1.7306\n",
      "Epoch 172/200\n",
      "6/6 [==============================] - 0s 6ms/step - loss: 1.7564 - val_loss: 1.4493\n",
      "Epoch 173/200\n",
      "6/6 [==============================] - 0s 5ms/step - loss: 1.7476 - val_loss: 2.5529\n",
      "Epoch 174/200\n",
      "6/6 [==============================] - 0s 5ms/step - loss: 2.3707 - val_loss: 2.9712\n",
      "Epoch 175/200\n",
      "6/6 [==============================] - 0s 5ms/step - loss: 2.4691 - val_loss: 1.9807\n",
      "Epoch 176/200\n",
      "6/6 [==============================] - 0s 6ms/step - loss: 2.2618 - val_loss: 1.3418\n",
      "Epoch 177/200\n",
      "6/6 [==============================] - 0s 5ms/step - loss: 2.3028 - val_loss: 1.4444\n",
      "Epoch 178/200\n",
      "6/6 [==============================] - 0s 6ms/step - loss: 1.6471 - val_loss: 1.1887\n",
      "Epoch 179/200\n",
      "6/6 [==============================] - 0s 5ms/step - loss: 1.8237 - val_loss: 1.8257\n",
      "Epoch 180/200\n",
      "6/6 [==============================] - 0s 5ms/step - loss: 2.3672 - val_loss: 3.2363\n",
      "Epoch 181/200\n",
      "6/6 [==============================] - 0s 6ms/step - loss: 2.9924 - val_loss: 5.0517\n",
      "Epoch 182/200\n",
      "6/6 [==============================] - 0s 6ms/step - loss: 3.1478 - val_loss: 2.6372\n",
      "Epoch 183/200\n",
      "6/6 [==============================] - 0s 6ms/step - loss: 2.5376 - val_loss: 1.2774\n",
      "Epoch 184/200\n",
      "6/6 [==============================] - 0s 6ms/step - loss: 2.6087 - val_loss: 1.2656\n",
      "Epoch 185/200\n",
      "6/6 [==============================] - 0s 6ms/step - loss: 2.0315 - val_loss: 1.5144\n",
      "Epoch 186/200\n",
      "6/6 [==============================] - 0s 5ms/step - loss: 2.4099 - val_loss: 1.2584\n",
      "Epoch 187/200\n",
      "6/6 [==============================] - 0s 6ms/step - loss: 1.9628 - val_loss: 1.8518\n",
      "Epoch 188/200\n",
      "6/6 [==============================] - 0s 7ms/step - loss: 2.1023 - val_loss: 1.8069\n",
      "Epoch 189/200\n",
      "6/6 [==============================] - 0s 10ms/step - loss: 2.0922 - val_loss: 1.4527\n",
      "Epoch 190/200\n",
      "6/6 [==============================] - 0s 7ms/step - loss: 2.0537 - val_loss: 1.3236\n",
      "Epoch 191/200\n",
      "6/6 [==============================] - 0s 8ms/step - loss: 1.6818 - val_loss: 1.1999\n",
      "Epoch 192/200\n",
      "6/6 [==============================] - 0s 6ms/step - loss: 1.7330 - val_loss: 1.1818\n",
      "Epoch 193/200\n",
      "6/6 [==============================] - 0s 6ms/step - loss: 1.6378 - val_loss: 2.0077\n",
      "Epoch 194/200\n",
      "6/6 [==============================] - 0s 7ms/step - loss: 2.3520 - val_loss: 1.1040\n",
      "Epoch 195/200\n",
      "6/6 [==============================] - 0s 8ms/step - loss: 2.0788 - val_loss: 1.1196\n",
      "Epoch 196/200\n",
      "6/6 [==============================] - 0s 7ms/step - loss: 1.6416 - val_loss: 1.3031\n",
      "Epoch 197/200\n",
      "6/6 [==============================] - 0s 6ms/step - loss: 1.6701 - val_loss: 1.2024\n",
      "Epoch 198/200\n",
      "6/6 [==============================] - 0s 6ms/step - loss: 1.5863 - val_loss: 1.6866\n",
      "Epoch 199/200\n",
      "6/6 [==============================] - 0s 7ms/step - loss: 1.7711 - val_loss: 1.8393\n",
      "Epoch 200/200\n",
      "6/6 [==============================] - 0s 6ms/step - loss: 1.7611 - val_loss: 1.4235\n"
     ]
    }
   ],
   "source": [
    "history = model.fit([x_train], y_train,  epochs = 200, validation_data=([x_val], y_val))\n",
    "#Training the model!"
   ]
  },
  {
   "cell_type": "code",
   "execution_count": 362,
   "metadata": {},
   "outputs": [
    {
     "name": "stdout",
     "output_type": "stream",
     "text": [
      "1/1 [==============================] - 0s 21ms/step\n"
     ]
    }
   ],
   "source": [
    "prediction_dense = model.predict([x_test])\n",
    "prediction_sales_dense = np.concatenate([prediction_dense.reshape(-1,1), y_test.reshape(-1,1)], axis = 1)\n",
    "#Using the model for prediction\n",
    "#Concatenating the output in a more observable format"
   ]
  },
  {
   "cell_type": "code",
   "execution_count": 363,
   "metadata": {},
   "outputs": [],
   "source": [
    "def calc_loss(prediction_sales):\n",
    "    loss = 0\n",
    "    actual = np.sum(prediction_sales, axis = 0)[-1]\n",
    "    for i in range (len(prediction_sales)):\n",
    "        loss += abs(prediction_sales[i][0] - prediction_sales[i][-1])\n",
    "    percentage_loss = loss/(actual)*100\n",
    "    print (\"The loss percentage is: \", percentage_loss, \"% !\")\n",
    "#Defining a function to calculate loss using the predicted values and test dataset values\n"
   ]
  },
  {
   "cell_type": "code",
   "execution_count": 364,
   "metadata": {},
   "outputs": [
    {
     "data": {
      "text/html": [
       "<style>#sk-container-id-8 {color: black;}#sk-container-id-8 pre{padding: 0;}#sk-container-id-8 div.sk-toggleable {background-color: white;}#sk-container-id-8 label.sk-toggleable__label {cursor: pointer;display: block;width: 100%;margin-bottom: 0;padding: 0.3em;box-sizing: border-box;text-align: center;}#sk-container-id-8 label.sk-toggleable__label-arrow:before {content: \"▸\";float: left;margin-right: 0.25em;color: #696969;}#sk-container-id-8 label.sk-toggleable__label-arrow:hover:before {color: black;}#sk-container-id-8 div.sk-estimator:hover label.sk-toggleable__label-arrow:before {color: black;}#sk-container-id-8 div.sk-toggleable__content {max-height: 0;max-width: 0;overflow: hidden;text-align: left;background-color: #f0f8ff;}#sk-container-id-8 div.sk-toggleable__content pre {margin: 0.2em;color: black;border-radius: 0.25em;background-color: #f0f8ff;}#sk-container-id-8 input.sk-toggleable__control:checked~div.sk-toggleable__content {max-height: 200px;max-width: 100%;overflow: auto;}#sk-container-id-8 input.sk-toggleable__control:checked~label.sk-toggleable__label-arrow:before {content: \"▾\";}#sk-container-id-8 div.sk-estimator input.sk-toggleable__control:checked~label.sk-toggleable__label {background-color: #d4ebff;}#sk-container-id-8 div.sk-label input.sk-toggleable__control:checked~label.sk-toggleable__label {background-color: #d4ebff;}#sk-container-id-8 input.sk-hidden--visually {border: 0;clip: rect(1px 1px 1px 1px);clip: rect(1px, 1px, 1px, 1px);height: 1px;margin: -1px;overflow: hidden;padding: 0;position: absolute;width: 1px;}#sk-container-id-8 div.sk-estimator {font-family: monospace;background-color: #f0f8ff;border: 1px dotted black;border-radius: 0.25em;box-sizing: border-box;margin-bottom: 0.5em;}#sk-container-id-8 div.sk-estimator:hover {background-color: #d4ebff;}#sk-container-id-8 div.sk-parallel-item::after {content: \"\";width: 100%;border-bottom: 1px solid gray;flex-grow: 1;}#sk-container-id-8 div.sk-label:hover label.sk-toggleable__label {background-color: #d4ebff;}#sk-container-id-8 div.sk-serial::before {content: \"\";position: absolute;border-left: 1px solid gray;box-sizing: border-box;top: 0;bottom: 0;left: 50%;z-index: 0;}#sk-container-id-8 div.sk-serial {display: flex;flex-direction: column;align-items: center;background-color: white;padding-right: 0.2em;padding-left: 0.2em;position: relative;}#sk-container-id-8 div.sk-item {position: relative;z-index: 1;}#sk-container-id-8 div.sk-parallel {display: flex;align-items: stretch;justify-content: center;background-color: white;position: relative;}#sk-container-id-8 div.sk-item::before, #sk-container-id-8 div.sk-parallel-item::before {content: \"\";position: absolute;border-left: 1px solid gray;box-sizing: border-box;top: 0;bottom: 0;left: 50%;z-index: -1;}#sk-container-id-8 div.sk-parallel-item {display: flex;flex-direction: column;z-index: 1;position: relative;background-color: white;}#sk-container-id-8 div.sk-parallel-item:first-child::after {align-self: flex-end;width: 50%;}#sk-container-id-8 div.sk-parallel-item:last-child::after {align-self: flex-start;width: 50%;}#sk-container-id-8 div.sk-parallel-item:only-child::after {width: 0;}#sk-container-id-8 div.sk-dashed-wrapped {border: 1px dashed gray;margin: 0 0.4em 0.5em 0.4em;box-sizing: border-box;padding-bottom: 0.4em;background-color: white;}#sk-container-id-8 div.sk-label label {font-family: monospace;font-weight: bold;display: inline-block;line-height: 1.2em;}#sk-container-id-8 div.sk-label-container {text-align: center;}#sk-container-id-8 div.sk-container {/* jupyter's `normalize.less` sets `[hidden] { display: none; }` but bootstrap.min.css set `[hidden] { display: none !important; }` so we also need the `!important` here to be able to override the default hidden behavior on the sphinx rendered scikit-learn.org. See: https://github.com/scikit-learn/scikit-learn/issues/21755 */display: inline-block !important;position: relative;}#sk-container-id-8 div.sk-text-repr-fallback {display: none;}</style><div id=\"sk-container-id-8\" class=\"sk-top-container\"><div class=\"sk-text-repr-fallback\"><pre>RandomForestRegressor(random_state=42)</pre><b>In a Jupyter environment, please rerun this cell to show the HTML representation or trust the notebook. <br />On GitHub, the HTML representation is unable to render, please try loading this page with nbviewer.org.</b></div><div class=\"sk-container\" hidden><div class=\"sk-item\"><div class=\"sk-estimator sk-toggleable\"><input class=\"sk-toggleable__control sk-hidden--visually\" id=\"sk-estimator-id-8\" type=\"checkbox\" checked><label for=\"sk-estimator-id-8\" class=\"sk-toggleable__label sk-toggleable__label-arrow\">RandomForestRegressor</label><div class=\"sk-toggleable__content\"><pre>RandomForestRegressor(random_state=42)</pre></div></div></div></div></div>"
      ],
      "text/plain": [
       "RandomForestRegressor(random_state=42)"
      ]
     },
     "execution_count": 364,
     "metadata": {},
     "output_type": "execute_result"
    }
   ],
   "source": [
    "#Using RandomForest to see how this methods performs!\n",
    "rf = RandomForestRegressor(n_estimators=100, random_state=42)\n",
    "rf.fit(x_train, y_train)"
   ]
  },
  {
   "cell_type": "code",
   "execution_count": 365,
   "metadata": {},
   "outputs": [],
   "source": [
    "predictions_rf = rf.predict(x_test)\n",
    "prediction_sales_rf = np.concatenate([predictions_rf.reshape(-1,1), y_test.reshape(-1,1)], axis = 1)\n",
    "\n",
    "#Testing the RF model on the testing dataset"
   ]
  },
  {
   "cell_type": "code",
   "execution_count": 366,
   "metadata": {},
   "outputs": [
    {
     "name": "stdout",
     "output_type": "stream",
     "text": [
      "Using Dense Layers:: \n",
      "The loss percentage is:  7.447076708837962 % !\n",
      "Useing Random Forest:: \n",
      "The loss percentage is:  5.032683658170883 % !\n"
     ]
    }
   ],
   "source": [
    "#Calculating loss for both methods\n",
    "print (\"Using Dense Layers:: \")\n",
    "calc_loss(prediction_sales_dense)\n",
    "print (\"Useing Random Forest:: \")\n",
    "calc_loss (prediction_sales_rf)"
   ]
  },
  {
   "cell_type": "code",
   "execution_count": 378,
   "metadata": {},
   "outputs": [
    {
     "data": {
      "text/html": [
       "<div>\n",
       "<style scoped>\n",
       "    .dataframe tbody tr th:only-of-type {\n",
       "        vertical-align: middle;\n",
       "    }\n",
       "\n",
       "    .dataframe tbody tr th {\n",
       "        vertical-align: top;\n",
       "    }\n",
       "\n",
       "    .dataframe thead th {\n",
       "        text-align: right;\n",
       "    }\n",
       "</style>\n",
       "<table border=\"1\" class=\"dataframe\">\n",
       "  <thead>\n",
       "    <tr style=\"text-align: right;\">\n",
       "      <th></th>\n",
       "      <th>Dense Pred</th>\n",
       "      <th>Actual</th>\n",
       "      <th>RF Pred</th>\n",
       "      <th>Actual</th>\n",
       "    </tr>\n",
       "  </thead>\n",
       "  <tbody>\n",
       "    <tr>\n",
       "      <th>0</th>\n",
       "      <td>19.175568</td>\n",
       "      <td>18.0</td>\n",
       "      <td>18.220</td>\n",
       "      <td>18.0</td>\n",
       "    </tr>\n",
       "    <tr>\n",
       "      <th>1</th>\n",
       "      <td>12.985270</td>\n",
       "      <td>11.0</td>\n",
       "      <td>12.520</td>\n",
       "      <td>11.0</td>\n",
       "    </tr>\n",
       "    <tr>\n",
       "      <th>2</th>\n",
       "      <td>12.253967</td>\n",
       "      <td>11.6</td>\n",
       "      <td>11.294</td>\n",
       "      <td>11.6</td>\n",
       "    </tr>\n",
       "    <tr>\n",
       "      <th>3</th>\n",
       "      <td>20.351013</td>\n",
       "      <td>23.7</td>\n",
       "      <td>22.712</td>\n",
       "      <td>23.7</td>\n",
       "    </tr>\n",
       "    <tr>\n",
       "      <th>4</th>\n",
       "      <td>15.341379</td>\n",
       "      <td>15.6</td>\n",
       "      <td>16.635</td>\n",
       "      <td>15.6</td>\n",
       "    </tr>\n",
       "  </tbody>\n",
       "</table>\n",
       "</div>"
      ],
      "text/plain": [
       "   Dense Pred  Actual  RF Pred  Actual\n",
       "0   19.175568    18.0   18.220    18.0\n",
       "1   12.985270    11.0   12.520    11.0\n",
       "2   12.253967    11.6   11.294    11.6\n",
       "3   20.351013    23.7   22.712    23.7\n",
       "4   15.341379    15.6   16.635    15.6"
      ]
     },
     "execution_count": 378,
     "metadata": {},
     "output_type": "execute_result"
    }
   ],
   "source": [
    "overall_out = np.concatenate([prediction_sales_dense, prediction_sales_rf], axis = 1)\n",
    "df_out = pd.DataFrame(overall_out, columns = ['Dense Pred', 'Actual', 'RF Pred', 'Actual'])\n",
    "df_out.to_csv('Prediction_Sales.csv')\n",
    "df_out.head()"
   ]
  }
 ],
 "metadata": {
  "kernelspec": {
   "display_name": "Python 3",
   "language": "python",
   "name": "python3"
  },
  "language_info": {
   "codemirror_mode": {
    "name": "ipython",
    "version": 3
   },
   "file_extension": ".py",
   "mimetype": "text/x-python",
   "name": "python",
   "nbconvert_exporter": "python",
   "pygments_lexer": "ipython3",
   "version": "3.11.6"
  }
 },
 "nbformat": 4,
 "nbformat_minor": 2
}
